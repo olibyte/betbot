{
   "cells": [
      {
         "cell_type": "code",
         "execution_count": 1,
         "metadata": {},
         "outputs": [
            {
               "ename": "ModuleNotFoundError",
               "evalue": "No module named 'bs4'",
               "output_type": "error",
               "traceback": [
                  "\u001b[31m---------------------------------------------------------------------------\u001b[39m",
                  "\u001b[31mModuleNotFoundError\u001b[39m                       Traceback (most recent call last)",
                  "\u001b[36mCell\u001b[39m\u001b[36m \u001b[39m\u001b[32mIn[1]\u001b[39m\u001b[32m, line 1\u001b[39m\n\u001b[32m----> \u001b[39m\u001b[32m1\u001b[39m \u001b[38;5;28;01mfrom\u001b[39;00m\u001b[38;5;250m \u001b[39m\u001b[34;01mbs4\u001b[39;00m\u001b[38;5;250m \u001b[39m\u001b[38;5;28;01mimport\u001b[39;00m BeautifulSoup\n\u001b[32m      2\u001b[39m url = \u001b[33m'\u001b[39m\u001b[33mhttps://www.tennisexplorer.com/indian-wells/2025/atp-men/\u001b[39m\u001b[33m'\u001b[39m\n\u001b[32m      3\u001b[39m soup = BeautifulSoup(url, \u001b[33m'\u001b[39m\u001b[33mhtml.parser\u001b[39m\u001b[33m'\u001b[39m)\n",
                  "\u001b[31mModuleNotFoundError\u001b[39m: No module named 'bs4'"
               ]
            }
         ],
         "source": [
            "from bs4 import BeautifulSoup\n",
            "url = 'https://www.tennisexplorer.com/indian-wells/2025/atp-men/'\n",
            "soup = BeautifulSoup(url, 'html.parser')\n",
            "print(soup.prettify())"
         ]
      },
      {
         "cell_type": "code",
         "execution_count": null,
         "metadata": {},
         "outputs": [],
         "source": []
      }
   ],
   "metadata": {
      "kernelspec": {
         "display_name": "venv",
         "language": "python",
         "name": "python3"
      },
      "language_info": {
         "codemirror_mode": {
            "name": "ipython",
            "version": 3
         },
         "file_extension": ".py",
         "mimetype": "text/x-python",
         "name": "python",
         "nbconvert_exporter": "python",
         "pygments_lexer": "ipython3",
         "version": "3.13.2"
      }
   },
   "nbformat": 4,
   "nbformat_minor": 2
}